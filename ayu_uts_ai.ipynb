{
  "nbformat": 4,
  "nbformat_minor": 0,
  "metadata": {
    "colab": {
      "name": "ayu_uts_ai.py",
      "provenance": [],
      "authorship_tag": "ABX9TyMegfRit6X0IRvQ3NaZlMnN",
      "include_colab_link": true
    },
    "kernelspec": {
      "name": "python3",
      "display_name": "Python 3"
    },
    "language_info": {
      "name": "python"
    }
  },
  "cells": [
    {
      "cell_type": "markdown",
      "metadata": {
        "id": "view-in-github",
        "colab_type": "text"
      },
      "source": [
        "<a href=\"https://colab.research.google.com/github/anggrni22/UTSKecerdasanB/blob/main/ayu_uts_ai.ipynb\" target=\"_parent\"><img src=\"https://colab.research.google.com/assets/colab-badge.svg\" alt=\"Open In Colab\"/></a>"
      ]
    },
    {
      "cell_type": "markdown",
      "source": [
        "Nama : Ayu anggraini\n",
        "\n",
        "Kelas : 06TPLM002 (Kecerdasan Buatan)\n",
        "\n",
        "NIM : 191011400191"
      ],
      "metadata": {
        "id": "zDqVKckjXz_i"
      }
    },
    {
      "cell_type": "markdown",
      "source": [
        "**Looping**\n",
        "\n",
        "The counter function counts down from start to stop when start is bigger than stop, and counts up from start to stop otherwise. Fill in the blanks to make this work correctly."
      ],
      "metadata": {
        "id": "9uFA2DK0YFpZ"
      }
    },
    {
      "cell_type": "code",
      "execution_count": 1,
      "metadata": {
        "colab": {
          "base_uri": "https://localhost:8080/"
        },
        "id": "zNLy8msbL2jA",
        "outputId": "45944aea-2339-4116-e8f6-d9b216d9ccab"
      },
      "outputs": [
        {
          "output_type": "stream",
          "name": "stdout",
          "text": [
            "Python 3.7.13\n"
          ]
        }
      ],
      "source": [
        "!python --version"
      ]
    },
    {
      "cell_type": "code",
      "source": [
        "def counter(start, stop):\n",
        "\tx = start\n",
        "\tif x > stop:\n",
        "\t\treturn_string = \"Counting down: \"\n",
        "\t\twhile x >= stop:\n",
        "\t\t\treturn_string += str(x)\n",
        "\t\t\tif stop != x:\n",
        "\t\t\t\treturn_string += \",\"\n",
        "\t\t\tx -= 1\n",
        "\telse:\n",
        "\t\treturn_string = \"Counting up: \"\n",
        "\t\twhile x <= stop:\n",
        "\t\t\treturn_string += str(x)\n",
        "\t\t\tif stop != x:\n",
        "\t\t\t\treturn_string += \",\"\n",
        "\t\t\tx += 1\n",
        "\treturn return_string"
      ],
      "metadata": {
        "id": "JnKKbr01NaBJ"
      },
      "execution_count": 2,
      "outputs": []
    },
    {
      "cell_type": "code",
      "source": [
        "print(counter(1, 10)) # Should be \"Counting up: 1,2,3,4,5,6,7,8,9,10\"\n",
        "print(counter(2, 1)) # Should be \"Counting down: 2,1\"\n",
        "print(counter(5, 5)) # Should be \"Counting up: 5\""
      ],
      "metadata": {
        "colab": {
          "base_uri": "https://localhost:8080/"
        },
        "id": "5Zh5Ov9JNdPQ",
        "outputId": "59f68234-c648-4030-d457-7817a90c8ce6"
      },
      "execution_count": 3,
      "outputs": [
        {
          "output_type": "stream",
          "name": "stdout",
          "text": [
            "Counting up: 1,2,3,4,5,6,7,8,9,10\n",
            "Counting down: 2,1\n",
            "Counting up: 5\n"
          ]
        }
      ]
    }
  ]
}